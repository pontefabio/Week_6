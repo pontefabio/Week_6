{
 "cells": [
  {
   "cell_type": "code",
   "execution_count": 2,
   "id": "83e0132c",
   "metadata": {},
   "outputs": [
    {
     "data": {
      "text/plain": [
       "'/Users/ponte/Data Wrangling'"
      ]
     },
     "execution_count": 2,
     "metadata": {},
     "output_type": "execute_result"
    }
   ],
   "source": [
    "pwd"
   ]
  },
  {
   "cell_type": "code",
   "execution_count": 2,
   "id": "7fd38d19",
   "metadata": {},
   "outputs": [
    {
     "name": "stdout",
     "output_type": "stream",
     "text": [
      "Overwriting testutility.py\n"
     ]
    }
   ],
   "source": [
    "%%writefile testutility.py\n",
    "import logging\n",
    "import os\n",
    "import subprocess\n",
    "import yaml\n",
    "import pandas as pd\n",
    "import datetime \n",
    "import gc\n",
    "import re\n",
    "\n",
    "\n",
    "################\n",
    "# File Reading #\n",
    "################\n",
    "\n",
    "def read_config_file(filepath):\n",
    "    with open(filepath, 'r') as stream:\n",
    "        try:\n",
    "            return yaml.safe_load(stream)\n",
    "        except yaml.YAMLError as exc:\n",
    "            logging.error(exc)\n",
    "\n",
    "\n",
    "def replacer(string, char):\n",
    "    pattern = char + '{2,}'\n",
    "    string = re.sub(pattern, char, string) \n",
    "    return string\n",
    "\n",
    "def col_header_val(ddf, table_config):\n",
    "    '''\n",
    "    replace whitespaces in the column\n",
    "    and standardized column names\n",
    "    '''\n",
    "    ddf.columns = ddf.columns.str.lower()\n",
    "    ddf.columns = ddf.columns.str.replace('[^\\w]', '_', regex=True)\n",
    "    ddf.columns = list(map(lambda x: x.strip('_'), list(ddf.columns)))\n",
    "    ddf.columns = list(map(lambda x: replacer(x, '_'), list(ddf.columns)))\n",
    "    expected_col = list(map(lambda x: x.lower(), table_config['columns']))\n",
    "    expected_col.sort()\n",
    "    ddf.columns = list(map(lambda x: x.lower(), list(ddf.columns)))\n",
    "    ddf = ddf[expected_col]\n",
    "    if len(ddf.columns) == len(expected_col) and list(expected_col) == list(ddf.columns):\n",
    "        print(\"column name and column length validation passed\")\n",
    "        return 1\n",
    "    else:\n",
    "        print(\"column name and column length validation failed\")\n",
    "        mismatched_columns_file = list(set(ddf.columns).difference(expected_col))\n",
    "        print(\"Following File columns are not in the YAML file\", mismatched_columns_file)\n",
    "        missing_YAML_file = list(set(expected_col).difference(ddf.columns))\n",
    "        print(\"Following YAML columns are not in the file uploaded\", missing_YAML_file)\n",
    "        logging.info(f'ddf columns: {ddf.columns}')\n",
    "        logging.info(f'expected columns: {expected_col}')\n",
    "        return 0\n"
   ]
  },
  {
   "cell_type": "markdown",
   "id": "d909f7a8",
   "metadata": {},
   "source": [
    "## **Write YAML file**"
   ]
  },
  {
   "cell_type": "code",
   "execution_count": 52,
   "id": "58f177d9",
   "metadata": {},
   "outputs": [
    {
     "name": "stdout",
     "output_type": "stream",
     "text": [
      "Overwriting file.yaml\n"
     ]
    }
   ],
   "source": [
    "\n",
    "%%writefile file.yaml\n",
    "file_type: csv\n",
    "dataset_name: en-fr\n",
    "file_name: en-fr\n",
    "table_name: edsurv\n",
    "inbound_delimiter: \",\"\n",
    "outbound_delimiter: \"|\"\n",
    "skip_leading_rows: 1\n",
    "columns: \n",
    "    - changing_lives_changing_society_how_it_works_technology_drives_change_home_concepts_teachers_search_overview_credits_hhcc_web_reference_feedback_virtual_museum_of_canada_home_page"
   ]
  },
  {
   "cell_type": "code",
   "execution_count": 53,
   "id": "67b614cf",
   "metadata": {},
   "outputs": [
    {
     "data": {
      "text/plain": [
       "','"
      ]
     },
     "execution_count": 53,
     "metadata": {},
     "output_type": "execute_result"
    }
   ],
   "source": [
    "# Read config file\n",
    "import testutility as util\n",
    "config_data = util.read_config_file(\"file.yaml\")\n",
    "config_data['inbound_delimiter']"
   ]
  },
  {
   "cell_type": "code",
   "execution_count": 54,
   "id": "8698ed64",
   "metadata": {},
   "outputs": [
    {
     "data": {
      "text/plain": [
       "{'file_type': 'csv',\n",
       " 'dataset_name': 'en-fr',\n",
       " 'file_name': 'en-fr',\n",
       " 'table_name': 'edsurv',\n",
       " 'inbound_delimiter': ',',\n",
       " 'outbound_delimiter': '|',\n",
       " 'skip_leading_rows': 1,\n",
       " 'columns': ['changing_lives_changing_society_how_it_works_technology_drives_change_home_concepts_teachers_search_overview_credits_hhcc_web_reference_feedback_virtual_museum_of_canada_home_page']}"
      ]
     },
     "execution_count": 54,
     "metadata": {},
     "output_type": "execute_result"
    }
   ],
   "source": [
    "#inspecting data of config file\n",
    "config_data"
   ]
  },
  {
   "cell_type": "code",
   "execution_count": 43,
   "id": "8ea6ffef",
   "metadata": {},
   "outputs": [
    {
     "data": {
      "text/html": [
       "<div>\n",
       "<style scoped>\n",
       "    .dataframe tbody tr th:only-of-type {\n",
       "        vertical-align: middle;\n",
       "    }\n",
       "\n",
       "    .dataframe tbody tr th {\n",
       "        vertical-align: top;\n",
       "    }\n",
       "\n",
       "    .dataframe thead th {\n",
       "        text-align: right;\n",
       "    }\n",
       "</style>\n",
       "<table border=\"1\" class=\"dataframe\">\n",
       "  <thead>\n",
       "    <tr style=\"text-align: right;\">\n",
       "      <th></th>\n",
       "      <th>en</th>\n",
       "      <th>fr</th>\n",
       "    </tr>\n",
       "  </thead>\n",
       "  <tbody>\n",
       "    <tr>\n",
       "      <th>0</th>\n",
       "      <td>Changing Lives | Changing Society | How It Works | Technology Drives Change Home | Concepts | Teachers | Search | Overview | Credits | HHCC Web | Reference | Feedback Virtual Museum of Canada Home Page</td>\n",
       "      <td>Il a transformé notre vie | Il a transformé la société | Son fonctionnement | La technologie, moteur du changement Accueil | Concepts | Enseignants | Recherche | Aperçu | Collaborateurs | Web HHCC | Ressources | Commentaires Musée virtuel du Canada</td>\n",
       "    </tr>\n",
       "    <tr>\n",
       "      <th>1</th>\n",
       "      <td>Site map</td>\n",
       "      <td>Plan du site</td>\n",
       "    </tr>\n",
       "    <tr>\n",
       "      <th>2</th>\n",
       "      <td>Feedback</td>\n",
       "      <td>Rétroaction</td>\n",
       "    </tr>\n",
       "    <tr>\n",
       "      <th>3</th>\n",
       "      <td>Credits</td>\n",
       "      <td>Crédits</td>\n",
       "    </tr>\n",
       "    <tr>\n",
       "      <th>4</th>\n",
       "      <td>Français</td>\n",
       "      <td>English</td>\n",
       "    </tr>\n",
       "  </tbody>\n",
       "</table>\n",
       "</div>"
      ],
      "text/plain": [
       "                                                                                                                                                                                                          en  \\\n",
       "0  Changing Lives | Changing Society | How It Works | Technology Drives Change Home | Concepts | Teachers | Search | Overview | Credits | HHCC Web | Reference | Feedback Virtual Museum of Canada Home Page   \n",
       "1                                                                                                                                                                                                   Site map   \n",
       "2                                                                                                                                                                                                   Feedback   \n",
       "3                                                                                                                                                                                                    Credits   \n",
       "4                                                                                                                                                                                                   Français   \n",
       "\n",
       "                                                                                                                                                                                                                                                         fr  \n",
       "0  Il a transformé notre vie | Il a transformé la société | Son fonctionnement | La technologie, moteur du changement Accueil | Concepts | Enseignants | Recherche | Aperçu | Collaborateurs | Web HHCC | Ressources | Commentaires Musée virtuel du Canada  \n",
       "1                                                                                                                                                                                                                                              Plan du site  \n",
       "2                                                                                                                                                                                                                                               Rétroaction  \n",
       "3                                                                                                                                                                                                                                                   Crédits  \n",
       "4                                                                                                                                                                                                                                                   English  "
      ]
     },
     "execution_count": 43,
     "metadata": {},
     "output_type": "execute_result"
    }
   ],
   "source": [
    "# Normal reading process of the file\n",
    "import pandas as pd\n",
    "pd.set_option('display.max_columns', None)  # Show all columns\n",
    "pd.set_option('display.max_colwidth', None)  # Show full width of each column\n",
    "df_sample = pd.read_csv(\"en-fr.csv\",delimiter=',')\n",
    "df_sample.head()"
   ]
  },
  {
   "cell_type": "code",
   "execution_count": 7,
   "id": "c9cf7899",
   "metadata": {},
   "outputs": [
    {
     "name": "stdout",
     "output_type": "stream",
     "text": [
      "Time taken to import CSV file: 1298.7667400836945 seconds\n"
     ]
    }
   ],
   "source": [
    "import time\n",
    "import pandas as pd\n",
    "# Start the timer\n",
    "start_time = time.time()\n",
    "\n",
    "# Import the CSV file using pandas\n",
    "df_sample = pd.read_csv(\"en-fr.csv\")\n",
    "\n",
    "# End the timer\n",
    "end_time = time.time()\n",
    "\n",
    "# Calculate the time taken\n",
    "time_taken = end_time - start_time\n",
    "\n",
    "# Print the time taken\n",
    "print(\"Time taken to import CSV file:\", time_taken, \"seconds\")"
   ]
  },
  {
   "cell_type": "code",
   "execution_count": 45,
   "id": "c2b9c717",
   "metadata": {
    "scrolled": true
   },
   "outputs": [
    {
     "name": "stdout",
     "output_type": "stream",
     "text": [
      "   Changing Lives | Changing Society | How It Works | Technology Drives Change Home | Concepts | Teachers | Search | Overview | Credits | HHCC Web | Reference | Feedback Virtual Museum of Canada Home Page  \\\n",
      "0                                                                                                                                                                                                   Site map   \n",
      "1                                                                                                                                                                                                   Feedback   \n",
      "2                                                                                                                                                                                                    Credits   \n",
      "3                                                                                                                                                                                                   Français   \n",
      "4                                                                                                                                                                                            What is light ?   \n",
      "5                                                                   The white light spectrum Codes in the light The electromagnetic spectrum Emission spectra Absorption spectra Light-years Light pollution   \n",
      "6                                                                                                               The sky of the first inhabitants A contemporary vison of the Universe Astronomy for everyone   \n",
      "7                                                                                                                                                                                                    Cartoon   \n",
      "8                                                                                                                                                                                                      Links   \n",
      "9                                                                                                                                                                                                   Glossary   \n",
      "10                                                                                                                                                                                             Observatories   \n",
      "11                                                                                                                                            Astronomers Introduction Introduction video What is Astronomy?   \n",
      "12                                        Often considered the oldest science, it was born of our amazement at the sky and our need to question Astronomy is the science of space beyond Earth’s atmosphere.   \n",
      "13                                                                                                                The name is derived from the Greek root astron for star, and nomos for arrangement or law.   \n",
      "14          Astronomy is concerned with celestial objects and phenomena – like stars, planets, comets and galaxies – as well as the large-scale properties of the Universe, also known as \"The Big Picture\".   \n",
      "15                More specifically, astronomy is the study of the origin and evolution of the Universe, the physics and chemistry of celestial objects, and the calculation of their positions and motions.   \n",
      "16                                         For most people, astronomy represents a world that is both mysterious and grandiose – a story about glimmering celestial objects and the immensity of the cosmos.   \n",
      "17                                                                                                                                                   It prompts us to ask the deepest existential questions:   \n",
      "18                                                                                                                                                                                               Who are we?   \n",
      "19                                                                                                                                                                                   Where did we come from?   \n",
      "\n",
      "   Il a transformé notre vie | Il a transformé la société | Son fonctionnement | La technologie, moteur du changement Accueil | Concepts | Enseignants | Recherche | Aperçu | Collaborateurs | Web HHCC | Ressources | Commentaires Musée virtuel du Canada  \n",
      "0                                                                                                                                                                                                                                              Plan du site  \n",
      "1                                                                                                                                                                                                                                               Rétroaction  \n",
      "2                                                                                                                                                                                                                                                   Crédits  \n",
      "3                                                                                                                                                                                                                                                   English  \n",
      "4                                                                                                                                                                                                                                 Qu’est-ce que la lumière?  \n",
      "5                                                         La découverte du spectre de la lumière blanche Des codes dans la lumière Le spectre électromagnétique Les spectres d’émission Les spectres d’absorption Les années-lumière La pollution lumineuse  \n",
      "6                                                                                                                                                                Le ciel des premiers habitants La vision contemporaine de l'Univers L’astronomie pour tous  \n",
      "7                                                                                                                                                                                                                                            Bande dessinée  \n",
      "8                                                                                                                                                                                                                                                     Liens  \n",
      "9                                                                                                                                                                                                                                                 Glossaire  \n",
      "10                                                                                                                                                                                                                                            Observatoires  \n",
      "11                                                                                                                                                                                 Astronomes Introduction Vidéo d'introduction Qu'est-ce que l'astronomie?  \n",
      "12                                    Souvent considérée comme la plus ancienne des sciences, elle découle de notre étonnement et de nos questionnements envers le ciel L'astronomie est la science qui étudie l'Univers au-delà de l'atmosphère terrestre.  \n",
      "13                                                                                                                                                                          Son nom vient du grec astron, qui veut dire étoile et nomos, qui veut dire loi.  \n",
      "14                                                                                           Elle s'intéresse à des objets et des phénomènes tels que les étoiles, les planètes, les comètes, les galaxies et les propriétés de l'Univers à grande échelle.  \n",
      "15                                                              Plus spécifiquement, elle étudie la formation et l'évolution de l'Univers, détermine les propriétés physiques et chimiques des objets célestes qu'il contient et mesure leurs déplacements.  \n",
      "16                                                                                                                 Pour la majorité des gens, l'astronomie évoque un monde à la fois mystérieux et grandiose, celui des étoiles et de l'immensité cosmique.  \n",
      "17                                                                                                                                                                                L'astronomie évoque donc aussi les grandes questions « existentielles » :  \n",
      "18                                                                                                                                                                                                                                          Où sommes-nous?  \n",
      "19                                                                                                                                                                                                                                        D'où venons-nous?  \n"
     ]
    }
   ],
   "source": [
    "import dask.dataframe as dd\n",
    "\n",
    "# Read the CSV file using Dask\n",
    "ddf_sample = dd.read_csv(\"en-fr.csv\", skiprows=1,delimiter=',')\n",
    "\n",
    "# Display the first few rows of the Dask DataFrame\n",
    "print(ddf_sample.head(20))\n"
   ]
  },
  {
   "cell_type": "code",
   "execution_count": 28,
   "id": "cb658476",
   "metadata": {},
   "outputs": [
    {
     "name": "stdout",
     "output_type": "stream",
     "text": [
      "       Changing Lives | Changing Society | How It Works | Technology Drives Change Home | Concepts | Teachers | Search | Overview | Credits | HHCC Web | Reference | Feedback Virtual Museum of Canada Home Page  \\\n",
      "150294  \"India participated in the extensive discussio...                                                                                                                                                          \n",
      "150295                 The following is the view of India                                                                                                                                                          \n",
      "150296  Rule 1: Objective and Competence of the Confer...                                                                                                                                                          \n",
      "150297  Albania, Algeria, Andorra, Angola, Antigua and...                                                                                                                                                          \n",
      "150298  The Director General of the World Intellectual...                                                                                                                                                          \n",
      "150299  I have the pleasure to invite the European Com...                                                                                                                                                          \n",
      "150300  COUNTRIES TO BE INVITED TO SEND OBSERVER DELEG...                                                                                                                                                          \n",
      "150301  Commonwealth of Learning (COL), Community of P...                                                                                                                                                          \n",
      "150302  African Regional Intellectual Property Organiz...                                                                                                                                                          \n",
      "150303  Actors, Interpreting Artists Committee (CSAI),...                                                                                                                                                          \n",
      "150304  Stock assessment of the European lobster (Homa...                                                                                                                                                          \n",
      "150305  734) which assumes that recruitment to the fis...                                                                                                                                                          \n",
      "150306  Mer 40: 67–75) model has been used to simulate...                                                                                                                                                          \n",
      "150307  Yield curves show a clear maximum with a marke...                                                                                                                                                          \n",
      "150308  For the range of simulations considered, the p...                                                                                                                                                          \n",
      "150309  Only with a highly overcompensatory stock–recr...                                                                                                                                                          \n",
      "150310  The model predicts that the assumption made ab...                                                                                                                                                          \n",
      "150311  Overall the results confirm the unsatisfactory...                                                                                                                                                          \n",
      "150312  Error 404 — file not found Sorry, but the file...                                                                                                                                                          \n",
      "150313  British Columbia Lodging and Campgrounds Assoc...                                                                                                                                                          \n",
      "\n",
      "       Il a transformé notre vie | Il a transformé la société | Son fonctionnement | La technologie, moteur du changement Accueil | Concepts | Enseignants | Recherche | Aperçu | Collaborateurs | Web HHCC | Ressources | Commentaires Musée virtuel du Canada  \n",
      "150294  \"L’Inde a participé aux délibérations approfon...                                                                                                                                                                                                        \n",
      "150295            la position de l’Inde est la suivante :                                                                                                                                                                                                        \n",
      "150296  But et compétence de la conférence 1) Le but d...                                                                                                                                                                                                        \n",
      "150297  Afrique du Sud, Albanie, Algérie, Allemagne, A...                                                                                                                                                                                                        \n",
      "150298  Le Directeur général de l’Organisation Mondial...                                                                                                                                                                                                        \n",
      "150299  J’ai le plaisir d’inviter la Communauté europé...                                                                                                                                                                                                        \n",
      "150300  II. PAYS à INVITER à ENVOYER UNE DéLéGATION OB...                                                                                                                                                                                                        \n",
      "150301  Centre Sud, Commonwealth of Learning (COL), Co...                                                                                                                                                                                                        \n",
      "150302  Association des nations de l’Asie du Sud-Est (...                                                                                                                                                                                                        \n",
      "150303  (CPR), Central and Eastern European Copyright ...                                                                                                                                                                                                        \n",
      "150304  L'évaluation des stocks de homards d'Europe (H...                                                                                                                                                                                                        \n",
      "150305  734) selon laquelle le recrutement pour la pêc...                                                                                                                                                                                                        \n",
      "150306  Mer 40 : 67–75) a servi à simuler une série de...                                                                                                                                                                                                        \n",
      "150307  Les courbes de la production montrent un net m...                                                                                                                                                                                                        \n",
      "150308  Dans la série de simulations considérée, la pr...                                                                                                                                                                                                        \n",
      "150309  C'est seulement en cas de courbe stock–recrute...                                                                                                                                                                                                        \n",
      "150310  Le modèle prévoit que l'hypothèse émise au suj...                                                                                                                                                                                                        \n",
      "150311  Dans l'ensemble, les résultats confirment le p...                                                                                                                                                                                                        \n",
      "150312  Erreur 404 — fichier introuvable Nous sommes d...                                                                                                                                                                                                        \n",
      "150313  British Columbia Lodging and Campgrounds Assoc...                                                                                                                                                                                                        \n"
     ]
    }
   ],
   "source": [
    "import dask.dataframe as dd\n",
    "\n",
    "# Read the CSV file using Dask\n",
    "ddf_sample = dd.read_csv(\"en-fr.csv\", skiprows=1)\n",
    "\n",
    "# Display the first few rows of the Dask DataFrame\n",
    "print(ddf_sample.tail(20))"
   ]
  },
  {
   "cell_type": "code",
   "execution_count": 5,
   "id": "c15cce0d",
   "metadata": {},
   "outputs": [
    {
     "name": "stdout",
     "output_type": "stream",
     "text": [
      "Number of rows: 22520376\n",
      "Time taken to read the file: 91.2523078918457 seconds\n"
     ]
    }
   ],
   "source": [
    "import dask.dataframe as dd\n",
    "import time\n",
    "\n",
    "# Record the start time\n",
    "start_time = time.time()\n",
    "\n",
    "# Read the CSV file using Dask\n",
    "ddf_sample = dd.read_csv(\"en-fr.csv\")\n",
    "\n",
    "# Trigger computation by computing the number of rows\n",
    "num_rows = len(ddf_sample)\n",
    "\n",
    "# Record the end time\n",
    "end_time = time.time()\n",
    "\n",
    "# Calculate the time taken\n",
    "time_taken = end_time - start_time\n",
    "\n",
    "# Display the number of rows and the time taken\n",
    "print(\"Number of rows:\", num_rows)\n",
    "print(\"Time taken to read the file:\", time_taken, \"seconds\")\n"
   ]
  },
  {
   "cell_type": "code",
   "execution_count": 7,
   "id": "88ec5c14",
   "metadata": {
    "scrolled": true
   },
   "outputs": [
    {
     "name": "stderr",
     "output_type": "stream",
     "text": [
      "2024-04-09 18:38:48,063\tINFO worker.py:1752 -- Started a local Ray instance.\n"
     ]
    },
    {
     "ename": "KeyboardInterrupt",
     "evalue": "",
     "output_type": "error",
     "traceback": [
      "\u001b[0;31m---------------------------------------------------------------------------\u001b[0m",
      "\u001b[0;31mKeyboardInterrupt\u001b[0m                         Traceback (most recent call last)",
      "Cell \u001b[0;32mIn[7], line 19\u001b[0m\n\u001b[1;32m     16\u001b[0m \u001b[38;5;66;03m# Read the CSV file using Ray\u001b[39;00m\n\u001b[1;32m     17\u001b[0m \u001b[38;5;66;03m# Note: Replace 'en-fr.csv' with your actual file path\u001b[39;00m\n\u001b[1;32m     18\u001b[0m result_id \u001b[38;5;241m=\u001b[39m read_csv\u001b[38;5;241m.\u001b[39mremote(\u001b[38;5;124m'\u001b[39m\u001b[38;5;124men-fr.csv\u001b[39m\u001b[38;5;124m'\u001b[39m)\n\u001b[0;32m---> 19\u001b[0m df_sample \u001b[38;5;241m=\u001b[39m ray\u001b[38;5;241m.\u001b[39mget(result_id)\n\u001b[1;32m     21\u001b[0m \u001b[38;5;66;03m# Record the end time\u001b[39;00m\n\u001b[1;32m     22\u001b[0m end_time \u001b[38;5;241m=\u001b[39m time\u001b[38;5;241m.\u001b[39mtime()\n",
      "File \u001b[0;32m~/anaconda3/lib/python3.11/site-packages/ray/_private/auto_init_hook.py:21\u001b[0m, in \u001b[0;36mwrap_auto_init.<locals>.auto_init_wrapper\u001b[0;34m(*args, **kwargs)\u001b[0m\n\u001b[1;32m     18\u001b[0m \u001b[38;5;129m@wraps\u001b[39m(fn)\n\u001b[1;32m     19\u001b[0m \u001b[38;5;28;01mdef\u001b[39;00m \u001b[38;5;21mauto_init_wrapper\u001b[39m(\u001b[38;5;241m*\u001b[39margs, \u001b[38;5;241m*\u001b[39m\u001b[38;5;241m*\u001b[39mkwargs):\n\u001b[1;32m     20\u001b[0m     auto_init_ray()\n\u001b[0;32m---> 21\u001b[0m     \u001b[38;5;28;01mreturn\u001b[39;00m fn(\u001b[38;5;241m*\u001b[39margs, \u001b[38;5;241m*\u001b[39m\u001b[38;5;241m*\u001b[39mkwargs)\n",
      "File \u001b[0;32m~/anaconda3/lib/python3.11/site-packages/ray/_private/client_mode_hook.py:103\u001b[0m, in \u001b[0;36mclient_mode_hook.<locals>.wrapper\u001b[0;34m(*args, **kwargs)\u001b[0m\n\u001b[1;32m    101\u001b[0m     \u001b[38;5;28;01mif\u001b[39;00m func\u001b[38;5;241m.\u001b[39m\u001b[38;5;18m__name__\u001b[39m \u001b[38;5;241m!=\u001b[39m \u001b[38;5;124m\"\u001b[39m\u001b[38;5;124minit\u001b[39m\u001b[38;5;124m\"\u001b[39m \u001b[38;5;129;01mor\u001b[39;00m is_client_mode_enabled_by_default:\n\u001b[1;32m    102\u001b[0m         \u001b[38;5;28;01mreturn\u001b[39;00m \u001b[38;5;28mgetattr\u001b[39m(ray, func\u001b[38;5;241m.\u001b[39m\u001b[38;5;18m__name__\u001b[39m)(\u001b[38;5;241m*\u001b[39margs, \u001b[38;5;241m*\u001b[39m\u001b[38;5;241m*\u001b[39mkwargs)\n\u001b[0;32m--> 103\u001b[0m \u001b[38;5;28;01mreturn\u001b[39;00m func(\u001b[38;5;241m*\u001b[39margs, \u001b[38;5;241m*\u001b[39m\u001b[38;5;241m*\u001b[39mkwargs)\n",
      "File \u001b[0;32m~/anaconda3/lib/python3.11/site-packages/ray/_private/worker.py:2667\u001b[0m, in \u001b[0;36mget\u001b[0;34m(object_refs, timeout)\u001b[0m\n\u001b[1;32m   2661\u001b[0m     \u001b[38;5;28;01mraise\u001b[39;00m \u001b[38;5;167;01mValueError\u001b[39;00m(\n\u001b[1;32m   2662\u001b[0m         \u001b[38;5;124mf\u001b[39m\u001b[38;5;124m\"\u001b[39m\u001b[38;5;124mInvalid type of object refs, \u001b[39m\u001b[38;5;132;01m{\u001b[39;00m\u001b[38;5;28mtype\u001b[39m(object_refs)\u001b[38;5;132;01m}\u001b[39;00m\u001b[38;5;124m, is given. \u001b[39m\u001b[38;5;124m\"\u001b[39m\n\u001b[1;32m   2663\u001b[0m         \u001b[38;5;124m\"\u001b[39m\u001b[38;5;124m'\u001b[39m\u001b[38;5;124mobject_refs\u001b[39m\u001b[38;5;124m'\u001b[39m\u001b[38;5;124m must either be an ObjectRef or a list of ObjectRefs. \u001b[39m\u001b[38;5;124m\"\u001b[39m\n\u001b[1;32m   2664\u001b[0m     )\n\u001b[1;32m   2666\u001b[0m \u001b[38;5;66;03m# TODO(ujvl): Consider how to allow user to retrieve the ready objects.\u001b[39;00m\n\u001b[0;32m-> 2667\u001b[0m values, debugger_breakpoint \u001b[38;5;241m=\u001b[39m worker\u001b[38;5;241m.\u001b[39mget_objects(object_refs, timeout\u001b[38;5;241m=\u001b[39mtimeout)\n\u001b[1;32m   2668\u001b[0m \u001b[38;5;28;01mfor\u001b[39;00m i, value \u001b[38;5;129;01min\u001b[39;00m \u001b[38;5;28menumerate\u001b[39m(values):\n\u001b[1;32m   2669\u001b[0m     \u001b[38;5;28;01mif\u001b[39;00m \u001b[38;5;28misinstance\u001b[39m(value, RayError):\n",
      "File \u001b[0;32m~/anaconda3/lib/python3.11/site-packages/ray/_private/worker.py:843\u001b[0m, in \u001b[0;36mWorker.get_objects\u001b[0;34m(self, object_refs, timeout)\u001b[0m\n\u001b[1;32m    837\u001b[0m         \u001b[38;5;28;01mraise\u001b[39;00m \u001b[38;5;167;01mTypeError\u001b[39;00m(\n\u001b[1;32m    838\u001b[0m             \u001b[38;5;124mf\u001b[39m\u001b[38;5;124m\"\u001b[39m\u001b[38;5;124mAttempting to call `get` on the value \u001b[39m\u001b[38;5;132;01m{\u001b[39;00mobject_ref\u001b[38;5;132;01m}\u001b[39;00m\u001b[38;5;124m, \u001b[39m\u001b[38;5;124m\"\u001b[39m\n\u001b[1;32m    839\u001b[0m             \u001b[38;5;124m\"\u001b[39m\u001b[38;5;124mwhich is not an ray.ObjectRef.\u001b[39m\u001b[38;5;124m\"\u001b[39m\n\u001b[1;32m    840\u001b[0m         )\n\u001b[1;32m    842\u001b[0m timeout_ms \u001b[38;5;241m=\u001b[39m \u001b[38;5;28mint\u001b[39m(timeout \u001b[38;5;241m*\u001b[39m \u001b[38;5;241m1000\u001b[39m) \u001b[38;5;28;01mif\u001b[39;00m timeout \u001b[38;5;129;01mis\u001b[39;00m \u001b[38;5;129;01mnot\u001b[39;00m \u001b[38;5;28;01mNone\u001b[39;00m \u001b[38;5;28;01melse\u001b[39;00m \u001b[38;5;241m-\u001b[39m\u001b[38;5;241m1\u001b[39m\n\u001b[0;32m--> 843\u001b[0m data_metadata_pairs \u001b[38;5;241m=\u001b[39m \u001b[38;5;28mself\u001b[39m\u001b[38;5;241m.\u001b[39mcore_worker\u001b[38;5;241m.\u001b[39mget_objects(\n\u001b[1;32m    844\u001b[0m     object_refs,\n\u001b[1;32m    845\u001b[0m     \u001b[38;5;28mself\u001b[39m\u001b[38;5;241m.\u001b[39mcurrent_task_id,\n\u001b[1;32m    846\u001b[0m     timeout_ms,\n\u001b[1;32m    847\u001b[0m )\n\u001b[1;32m    848\u001b[0m debugger_breakpoint \u001b[38;5;241m=\u001b[39m \u001b[38;5;124mb\u001b[39m\u001b[38;5;124m\"\u001b[39m\u001b[38;5;124m\"\u001b[39m\n\u001b[1;32m    849\u001b[0m \u001b[38;5;28;01mfor\u001b[39;00m data, metadata \u001b[38;5;129;01min\u001b[39;00m data_metadata_pairs:\n",
      "File \u001b[0;32mpython/ray/_raylet.pyx:3483\u001b[0m, in \u001b[0;36mray._raylet.CoreWorker.get_objects\u001b[0;34m()\u001b[0m\n",
      "File \u001b[0;32mpython/ray/_raylet.pyx:570\u001b[0m, in \u001b[0;36mray._raylet.check_status\u001b[0;34m()\u001b[0m\n",
      "\u001b[0;31mKeyboardInterrupt\u001b[0m: "
     ]
    }
   ],
   "source": [
    "import ray\n",
    "import pandas as pd\n",
    "import time\n",
    "\n",
    "# Start Ray\n",
    "ray.init()\n",
    "\n",
    "# Define a function to read the CSV file\n",
    "@ray.remote\n",
    "def read_csv(filename):\n",
    "    return pd.read_csv(filename)\n",
    "\n",
    "# Record the start time\n",
    "start_time = time.time()\n",
    "\n",
    "# Read the CSV file using Ray\n",
    "# Note: Replace 'en-fr.csv' with your actual file path\n",
    "result_id = read_csv.remote('en-fr.csv')\n",
    "df_sample = ray.get(result_id)\n",
    "\n",
    "# Record the end time\n",
    "end_time = time.time()\n",
    "\n",
    "# Calculate the time taken\n",
    "time_taken = end_time - start_time\n",
    "\n",
    "# Display the time taken\n",
    "print(\"Time taken to read the file:\", time_taken, \"seconds\")\n",
    "\n",
    "\n",
    "\n"
   ]
  },
  {
   "cell_type": "code",
   "execution_count": null,
   "id": "fe52b8dc",
   "metadata": {
    "scrolled": true
   },
   "outputs": [
    {
     "name": "stderr",
     "output_type": "stream",
     "text": [
      "2024-04-09 20:39:30,990\tINFO worker.py:1752 -- Started a local Ray instance.\n"
     ]
    }
   ],
   "source": [
    "import modin.pandas as pd\n",
    "import time\n",
    "\n",
    "# Record the start time\n",
    "start_time = time.time()\n",
    "\n",
    "# Read the CSV file using Modin\n",
    "df_sample = pd.read_csv(\"en-fr.csv\")\n",
    "\n",
    "# Record the end time\n",
    "end_time = time.time()\n",
    "\n",
    "# Calculate the time taken\n",
    "time_taken = end_time - start_time\n",
    "\n",
    "# Display the time taken\n",
    "print(\"Time taken to read the file:\", time_taken, \"seconds\")\n"
   ]
  },
  {
   "cell_type": "code",
   "execution_count": 20,
   "id": "e7d8b0fd",
   "metadata": {},
   "outputs": [
    {
     "name": "stdout",
     "output_type": "stream",
     "text": [
      "<class 'dask.dataframe.core.DataFrame'>\n"
     ]
    }
   ],
   "source": [
    "print(type(ddf_sample))\n"
   ]
  },
  {
   "cell_type": "code",
   "execution_count": 55,
   "id": "629c411d",
   "metadata": {},
   "outputs": [
    {
     "name": "stdout",
     "output_type": "stream",
     "text": [
      "column name and column length validation passed\n"
     ]
    },
    {
     "data": {
      "text/plain": [
       "1"
      ]
     },
     "execution_count": 55,
     "metadata": {},
     "output_type": "execute_result"
    }
   ],
   "source": [
    "util.col_header_val(ddf_sample, config_data)\n"
   ]
  },
  {
   "cell_type": "code",
   "execution_count": 56,
   "id": "5a1554a0",
   "metadata": {},
   "outputs": [
    {
     "name": "stdout",
     "output_type": "stream",
     "text": [
      "columns of files are: Index(['changing_lives_changing_society_how_it_works_technology_drives_change_home_concepts_teachers_search_overview_credits_hhcc_web_reference_feedback_virtual_museum_of_canada_home_page', 'il_a_transformé_notre_vie_il_a_transformé_la_société_son_fonctionnement_la_technologie_moteur_du_changement_accueil_concepts_enseignants_recherche_aperçu_collaborateurs_web_hhcc_ressources_commentaires_musée_virtuel_du_canada'], dtype='object')\n",
      "columns of YAML are: ['changing_lives_changing_society_how_it_works_technology_drives_change_home_concepts_teachers_search_overview_credits_hhcc_web_reference_feedback_virtual_museum_of_canada_home_page']\n"
     ]
    }
   ],
   "source": [
    "print(\"columns of files are:\" ,ddf_sample.columns)\n",
    "print(\"columns of YAML are:\" ,config_data['columns'])"
   ]
  },
  {
   "cell_type": "code",
   "execution_count": 27,
   "id": "5e735d16",
   "metadata": {},
   "outputs": [
    {
     "data": {
      "text/plain": [
       "['/Users/ponte/Data Wrangling/output_file.csv.gz/000.part',\n",
       " '/Users/ponte/Data Wrangling/output_file.csv.gz/001.part',\n",
       " '/Users/ponte/Data Wrangling/output_file.csv.gz/002.part',\n",
       " '/Users/ponte/Data Wrangling/output_file.csv.gz/003.part',\n",
       " '/Users/ponte/Data Wrangling/output_file.csv.gz/004.part',\n",
       " '/Users/ponte/Data Wrangling/output_file.csv.gz/005.part',\n",
       " '/Users/ponte/Data Wrangling/output_file.csv.gz/006.part',\n",
       " '/Users/ponte/Data Wrangling/output_file.csv.gz/007.part',\n",
       " '/Users/ponte/Data Wrangling/output_file.csv.gz/008.part',\n",
       " '/Users/ponte/Data Wrangling/output_file.csv.gz/009.part',\n",
       " '/Users/ponte/Data Wrangling/output_file.csv.gz/010.part',\n",
       " '/Users/ponte/Data Wrangling/output_file.csv.gz/011.part',\n",
       " '/Users/ponte/Data Wrangling/output_file.csv.gz/012.part',\n",
       " '/Users/ponte/Data Wrangling/output_file.csv.gz/013.part',\n",
       " '/Users/ponte/Data Wrangling/output_file.csv.gz/014.part',\n",
       " '/Users/ponte/Data Wrangling/output_file.csv.gz/015.part',\n",
       " '/Users/ponte/Data Wrangling/output_file.csv.gz/016.part',\n",
       " '/Users/ponte/Data Wrangling/output_file.csv.gz/017.part',\n",
       " '/Users/ponte/Data Wrangling/output_file.csv.gz/018.part',\n",
       " '/Users/ponte/Data Wrangling/output_file.csv.gz/019.part',\n",
       " '/Users/ponte/Data Wrangling/output_file.csv.gz/020.part',\n",
       " '/Users/ponte/Data Wrangling/output_file.csv.gz/021.part',\n",
       " '/Users/ponte/Data Wrangling/output_file.csv.gz/022.part',\n",
       " '/Users/ponte/Data Wrangling/output_file.csv.gz/023.part',\n",
       " '/Users/ponte/Data Wrangling/output_file.csv.gz/024.part',\n",
       " '/Users/ponte/Data Wrangling/output_file.csv.gz/025.part',\n",
       " '/Users/ponte/Data Wrangling/output_file.csv.gz/026.part',\n",
       " '/Users/ponte/Data Wrangling/output_file.csv.gz/027.part',\n",
       " '/Users/ponte/Data Wrangling/output_file.csv.gz/028.part',\n",
       " '/Users/ponte/Data Wrangling/output_file.csv.gz/029.part',\n",
       " '/Users/ponte/Data Wrangling/output_file.csv.gz/030.part',\n",
       " '/Users/ponte/Data Wrangling/output_file.csv.gz/031.part',\n",
       " '/Users/ponte/Data Wrangling/output_file.csv.gz/032.part',\n",
       " '/Users/ponte/Data Wrangling/output_file.csv.gz/033.part',\n",
       " '/Users/ponte/Data Wrangling/output_file.csv.gz/034.part',\n",
       " '/Users/ponte/Data Wrangling/output_file.csv.gz/035.part',\n",
       " '/Users/ponte/Data Wrangling/output_file.csv.gz/036.part',\n",
       " '/Users/ponte/Data Wrangling/output_file.csv.gz/037.part',\n",
       " '/Users/ponte/Data Wrangling/output_file.csv.gz/038.part',\n",
       " '/Users/ponte/Data Wrangling/output_file.csv.gz/039.part',\n",
       " '/Users/ponte/Data Wrangling/output_file.csv.gz/040.part',\n",
       " '/Users/ponte/Data Wrangling/output_file.csv.gz/041.part',\n",
       " '/Users/ponte/Data Wrangling/output_file.csv.gz/042.part',\n",
       " '/Users/ponte/Data Wrangling/output_file.csv.gz/043.part',\n",
       " '/Users/ponte/Data Wrangling/output_file.csv.gz/044.part',\n",
       " '/Users/ponte/Data Wrangling/output_file.csv.gz/045.part',\n",
       " '/Users/ponte/Data Wrangling/output_file.csv.gz/046.part',\n",
       " '/Users/ponte/Data Wrangling/output_file.csv.gz/047.part',\n",
       " '/Users/ponte/Data Wrangling/output_file.csv.gz/048.part',\n",
       " '/Users/ponte/Data Wrangling/output_file.csv.gz/049.part',\n",
       " '/Users/ponte/Data Wrangling/output_file.csv.gz/050.part',\n",
       " '/Users/ponte/Data Wrangling/output_file.csv.gz/051.part',\n",
       " '/Users/ponte/Data Wrangling/output_file.csv.gz/052.part',\n",
       " '/Users/ponte/Data Wrangling/output_file.csv.gz/053.part',\n",
       " '/Users/ponte/Data Wrangling/output_file.csv.gz/054.part',\n",
       " '/Users/ponte/Data Wrangling/output_file.csv.gz/055.part',\n",
       " '/Users/ponte/Data Wrangling/output_file.csv.gz/056.part',\n",
       " '/Users/ponte/Data Wrangling/output_file.csv.gz/057.part',\n",
       " '/Users/ponte/Data Wrangling/output_file.csv.gz/058.part',\n",
       " '/Users/ponte/Data Wrangling/output_file.csv.gz/059.part',\n",
       " '/Users/ponte/Data Wrangling/output_file.csv.gz/060.part',\n",
       " '/Users/ponte/Data Wrangling/output_file.csv.gz/061.part',\n",
       " '/Users/ponte/Data Wrangling/output_file.csv.gz/062.part',\n",
       " '/Users/ponte/Data Wrangling/output_file.csv.gz/063.part',\n",
       " '/Users/ponte/Data Wrangling/output_file.csv.gz/064.part',\n",
       " '/Users/ponte/Data Wrangling/output_file.csv.gz/065.part',\n",
       " '/Users/ponte/Data Wrangling/output_file.csv.gz/066.part',\n",
       " '/Users/ponte/Data Wrangling/output_file.csv.gz/067.part',\n",
       " '/Users/ponte/Data Wrangling/output_file.csv.gz/068.part',\n",
       " '/Users/ponte/Data Wrangling/output_file.csv.gz/069.part',\n",
       " '/Users/ponte/Data Wrangling/output_file.csv.gz/070.part',\n",
       " '/Users/ponte/Data Wrangling/output_file.csv.gz/071.part',\n",
       " '/Users/ponte/Data Wrangling/output_file.csv.gz/072.part',\n",
       " '/Users/ponte/Data Wrangling/output_file.csv.gz/073.part',\n",
       " '/Users/ponte/Data Wrangling/output_file.csv.gz/074.part',\n",
       " '/Users/ponte/Data Wrangling/output_file.csv.gz/075.part',\n",
       " '/Users/ponte/Data Wrangling/output_file.csv.gz/076.part',\n",
       " '/Users/ponte/Data Wrangling/output_file.csv.gz/077.part',\n",
       " '/Users/ponte/Data Wrangling/output_file.csv.gz/078.part',\n",
       " '/Users/ponte/Data Wrangling/output_file.csv.gz/079.part',\n",
       " '/Users/ponte/Data Wrangling/output_file.csv.gz/080.part',\n",
       " '/Users/ponte/Data Wrangling/output_file.csv.gz/081.part',\n",
       " '/Users/ponte/Data Wrangling/output_file.csv.gz/082.part',\n",
       " '/Users/ponte/Data Wrangling/output_file.csv.gz/083.part',\n",
       " '/Users/ponte/Data Wrangling/output_file.csv.gz/084.part',\n",
       " '/Users/ponte/Data Wrangling/output_file.csv.gz/085.part',\n",
       " '/Users/ponte/Data Wrangling/output_file.csv.gz/086.part',\n",
       " '/Users/ponte/Data Wrangling/output_file.csv.gz/087.part',\n",
       " '/Users/ponte/Data Wrangling/output_file.csv.gz/088.part',\n",
       " '/Users/ponte/Data Wrangling/output_file.csv.gz/089.part',\n",
       " '/Users/ponte/Data Wrangling/output_file.csv.gz/090.part',\n",
       " '/Users/ponte/Data Wrangling/output_file.csv.gz/091.part',\n",
       " '/Users/ponte/Data Wrangling/output_file.csv.gz/092.part',\n",
       " '/Users/ponte/Data Wrangling/output_file.csv.gz/093.part',\n",
       " '/Users/ponte/Data Wrangling/output_file.csv.gz/094.part',\n",
       " '/Users/ponte/Data Wrangling/output_file.csv.gz/095.part',\n",
       " '/Users/ponte/Data Wrangling/output_file.csv.gz/096.part',\n",
       " '/Users/ponte/Data Wrangling/output_file.csv.gz/097.part',\n",
       " '/Users/ponte/Data Wrangling/output_file.csv.gz/098.part',\n",
       " '/Users/ponte/Data Wrangling/output_file.csv.gz/099.part',\n",
       " '/Users/ponte/Data Wrangling/output_file.csv.gz/100.part',\n",
       " '/Users/ponte/Data Wrangling/output_file.csv.gz/101.part',\n",
       " '/Users/ponte/Data Wrangling/output_file.csv.gz/102.part',\n",
       " '/Users/ponte/Data Wrangling/output_file.csv.gz/103.part',\n",
       " '/Users/ponte/Data Wrangling/output_file.csv.gz/104.part',\n",
       " '/Users/ponte/Data Wrangling/output_file.csv.gz/105.part',\n",
       " '/Users/ponte/Data Wrangling/output_file.csv.gz/106.part',\n",
       " '/Users/ponte/Data Wrangling/output_file.csv.gz/107.part',\n",
       " '/Users/ponte/Data Wrangling/output_file.csv.gz/108.part',\n",
       " '/Users/ponte/Data Wrangling/output_file.csv.gz/109.part',\n",
       " '/Users/ponte/Data Wrangling/output_file.csv.gz/110.part',\n",
       " '/Users/ponte/Data Wrangling/output_file.csv.gz/111.part',\n",
       " '/Users/ponte/Data Wrangling/output_file.csv.gz/112.part',\n",
       " '/Users/ponte/Data Wrangling/output_file.csv.gz/113.part',\n",
       " '/Users/ponte/Data Wrangling/output_file.csv.gz/114.part',\n",
       " '/Users/ponte/Data Wrangling/output_file.csv.gz/115.part',\n",
       " '/Users/ponte/Data Wrangling/output_file.csv.gz/116.part',\n",
       " '/Users/ponte/Data Wrangling/output_file.csv.gz/117.part',\n",
       " '/Users/ponte/Data Wrangling/output_file.csv.gz/118.part',\n",
       " '/Users/ponte/Data Wrangling/output_file.csv.gz/119.part',\n",
       " '/Users/ponte/Data Wrangling/output_file.csv.gz/120.part',\n",
       " '/Users/ponte/Data Wrangling/output_file.csv.gz/121.part',\n",
       " '/Users/ponte/Data Wrangling/output_file.csv.gz/122.part',\n",
       " '/Users/ponte/Data Wrangling/output_file.csv.gz/123.part',\n",
       " '/Users/ponte/Data Wrangling/output_file.csv.gz/124.part',\n",
       " '/Users/ponte/Data Wrangling/output_file.csv.gz/125.part',\n",
       " '/Users/ponte/Data Wrangling/output_file.csv.gz/126.part',\n",
       " '/Users/ponte/Data Wrangling/output_file.csv.gz/127.part',\n",
       " '/Users/ponte/Data Wrangling/output_file.csv.gz/128.part',\n",
       " '/Users/ponte/Data Wrangling/output_file.csv.gz/129.part',\n",
       " '/Users/ponte/Data Wrangling/output_file.csv.gz/130.part']"
      ]
     },
     "execution_count": 27,
     "metadata": {},
     "output_type": "execute_result"
    }
   ],
   "source": [
    "# Write the Dask DataFrame to a pipe-separated text file in gzip format\n",
    "ddf_sample.to_csv(\"output_file.csv.gz\", sep='|', compression='gzip', index=False)\n"
   ]
  },
  {
   "cell_type": "code",
   "execution_count": 44,
   "id": "411b9ef1",
   "metadata": {},
   "outputs": [
    {
     "name": "stdout",
     "output_type": "stream",
     "text": [
      "Combined gzipped file saved to: combined_file.gz\n"
     ]
    }
   ],
   "source": [
    "import shutil\n",
    "import glob\n",
    "\n",
    "# Specify the path to the directory containing the part files\n",
    "part_files_directory = 'output_file.csv.gz'  \n",
    "\n",
    "# Specify the output path for the combined gzipped file\n",
    "output_gz_file = 'combined_file.gz'  \n",
    "\n",
    "# Use glob to get a list of all part files in the directory\n",
    "part_files = glob.glob(part_files_directory + '/*.part*')\n",
    "\n",
    "# Open the output gzipped file in binary write mode\n",
    "with open(output_gz_file, 'wb') as output_file:\n",
    "    # Iterate over each part file\n",
    "    for part_file in part_files:\n",
    "        # Open each part file in binary read mode\n",
    "        with open(part_file, 'rb') as input_file:\n",
    "            # Copy the contents of the part file to the output gzipped file\n",
    "            shutil.copyfileobj(input_file, output_file)\n",
    "\n",
    "print(f\"Combined gzipped file saved to: {output_gz_file}\")\n",
    "\n"
   ]
  },
  {
   "cell_type": "code",
   "execution_count": 49,
   "id": "24cfc2de",
   "metadata": {},
   "outputs": [
    {
     "name": "stdout",
     "output_type": "stream",
     "text": [
      "File size of the gzipped file: 2.48 GB\n"
     ]
    }
   ],
   "source": [
    "import os\n",
    "\n",
    "gz_file_path = \"combined_file.gz\"  \n",
    "\n",
    "if os.path.isfile(gz_file_path):\n",
    "    # Get the size of the gzipped file\n",
    "    file_size = os.path.getsize(gz_file_path)\n",
    "\n",
    "    # Convert the file size to gigabytes (GB)\n",
    "    file_size_gb = file_size / (1024 * 1024 * 1024)\n",
    "\n",
    "    # Report the file size\n",
    "    print(f\"File size of the gzipped file: {file_size_gb:.2f} GB\")\n",
    "else:\n",
    "    print(f\"The specified path '{gz_file_path}' is not a file.\")\n"
   ]
  },
  {
   "cell_type": "code",
   "execution_count": 1,
   "id": "5e0455a1",
   "metadata": {},
   "outputs": [
    {
     "name": "stdout",
     "output_type": "stream",
     "text": [
      "Number of rows: 22520505\n",
      "Number of columns: 2\n"
     ]
    }
   ],
   "source": [
    "import pandas as pd\n",
    "\n",
    "# Specify the path to the gzipped file\n",
    "gz_file_path = 'combined_file.gz'  \n",
    "\n",
    "# Read the CSV file with pipe (|) delimiter\n",
    "df = pd.read_csv(\"combined_file.gz\", sep='|', compression='gzip')\n",
    "\n",
    "# Determine the number of rows and columns in the DataFrame\n",
    "num_rows, num_columns = df.shape\n",
    "\n",
    "# Print the number of rows and columns\n",
    "print(f\"Number of rows: {num_rows}\")\n",
    "print(f\"Number of columns: {num_columns}\")\n"
   ]
  },
  {
   "cell_type": "code",
   "execution_count": null,
   "id": "0a837c64",
   "metadata": {},
   "outputs": [],
   "source": []
  }
 ],
 "metadata": {
  "kernelspec": {
   "display_name": "Python 3 (ipykernel)",
   "language": "python",
   "name": "python3"
  },
  "language_info": {
   "codemirror_mode": {
    "name": "ipython",
    "version": 3
   },
   "file_extension": ".py",
   "mimetype": "text/x-python",
   "name": "python",
   "nbconvert_exporter": "python",
   "pygments_lexer": "ipython3",
   "version": "3.11.4"
  }
 },
 "nbformat": 4,
 "nbformat_minor": 5
}
